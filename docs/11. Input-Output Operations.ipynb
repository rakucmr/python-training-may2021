{
 "cells": [
  {
   "cell_type": "markdown",
   "metadata": {},
   "source": [
    "# I/O Operations\n",
    "## Basic file operations\n",
    "\n",
    "`open()` returns a file object, and is most commonly used with two arguments: `open(filename, mode)`.\n",
    "\n",
    "The first argument is a string containing the filename. The second argument is another string containing a few characters describing the way in which the file will be used. `mode` can be `'r'` when the file will only be read, `'w'` for only writing (an existing file with the same name will be erased), and `'a'` opens the file for appending; any data written to the file is automatically added to the end. `'r+'` opens the file for both reading and writing. The `mode` argument is optional; `'r'` will be assumed if it’s omitted.\n",
    "\n",
    "Normally, files are opened in *text mode*, that means, you read and write strings from and to the file, which are encoded in a specific encoding. If `encoding` is not specified, the default is platform dependent (`locale.getpreferredencoding(False)` is called to get the current locale encoding). `'b'` appended to the mode opens the file in *binary mode*: now the data is read and written in the form of bytes objects. This mode should be used for all files that don’t contain text.\n",
    "\n",
    "| Character | Meaning                                                         |\n",
    "|-----------|-----------------------------------------------------------------|\n",
    "| `r`       | open for reading (default)                                      |\n",
    "| `w`       | open for writing, truncating the file first                     |\n",
    "| `x`       | open for exclusive creation, failing if the file already exists |\n",
    "| `a`       | open for writing, appending to the end of the file if it exists |\n",
    "| `b`       | binary mode                                                     |\n",
    "| `t`       | text mode (default)                                             |\n",
    "| `+`       | open for updating (reading and writing)                         |\n",
    "\n",
    "### Context managers (`with` statement)\n",
    "\n",
    "It is good practice to use the `with` keyword when dealing with file objects. The advantage is that the file is properly closed after its suite finishes, even if an exception is raised at some point. Using `with` is also much shorter than writing equivalent `try-finally` blocks:\n",
    "\n",
    "```python\n",
    "with open('workfile') as f:\n",
    "    read_data = f.read()\n",
    "```\n",
    "\n",
    "The equivalent `try-finally` block of the `with` block above would be:\n",
    "\n",
    "```python\n",
    "f = open('workfile')\n",
    "try:\n",
    "    read_data = f.read()\n",
    "finally:\n",
    "    f.close()\n",
    "```\n",
    "\n",
    "While comparing it to the first example we can see that a lot of boilerplate code is eliminated just by using `with`. The main advantage of using a with statement is that it makes sure our file is closed without paying attention to how the nested block exits.\n",
    "\n",
    "The `with` statement is used to wrap the execution of a block with methods defined by a context manager. A context manager is an object that defines the runtime context to be established when executing a `with` statement. The context manager handles the entry into, and the exit from, the desired runtime context for the execution of the block of code. \n",
    "\n",
    "Typical uses of context managers include saving and restoring various kinds of global state, locking and unlocking resources, closing opened files, etc.\n",
    "\n",
    "### Methods of File Objects\n",
    "\n",
    "To read a file’s contents, call `f.read(size)`, which reads some quantity of data and returns it as a string (in text mode) or bytes object (in binary mode). `size` is an optional numeric argument. When `size` is omitted or negative, the entire contents of the file will be read and returned; it’s your problem if the file is twice as large as your machine’s memory. Otherwise, at most `size` characters (in text mode) or `size` bytes (in binary mode) are read and returned. If the end of the file has been reached, `f.read()` will return an empty string.\n",
    "\n"
   ]
  },
  {
   "cell_type": "code",
   "execution_count": 1,
   "metadata": {},
   "outputs": [
    {
     "data": {
      "text/plain": [
       "'Beautiful is better '"
      ]
     },
     "execution_count": 1,
     "metadata": {},
     "output_type": "execute_result"
    }
   ],
   "source": [
    "f = open('file_example.txt', 'r+')\n",
    "f.read(20)"
   ]
  },
  {
   "cell_type": "markdown",
   "metadata": {},
   "source": [
    "`f.readline()` reads a single line from the file:"
   ]
  },
  {
   "cell_type": "code",
   "execution_count": 2,
   "metadata": {},
   "outputs": [
    {
     "name": "stdout",
     "output_type": "stream",
     "text": [
      "than ugly.\n",
      "Explicit is better than implicit.\n"
     ]
    }
   ],
   "source": [
    "print(f.readline(), end='')\n",
    "print(f.readline(), end='')"
   ]
  },
  {
   "cell_type": "markdown",
   "metadata": {},
   "source": [
    "For reading lines from a file, you can loop over the file object. This is memory efficient, fast, and leads to simple code:"
   ]
  },
  {
   "cell_type": "code",
   "execution_count": 3,
   "metadata": {},
   "outputs": [
    {
     "name": "stdout",
     "output_type": "stream",
     "text": [
      "Simple is better than complex.\n",
      "Complex is better than complicated.\n",
      "Flat is better than nested.\n",
      "Sparse is better than dense.\n",
      "Readability counts.\n"
     ]
    }
   ],
   "source": [
    "for line in f:\n",
    "    print(line, end='')"
   ]
  },
  {
   "cell_type": "markdown",
   "metadata": {},
   "source": [
    "If you want to read all the lines of a file in a list you can also use `list(f)` or `f.readlines()`.\n",
    "\n",
    "`f.write(string)` writes the contents of string to the file, returning the number of characters written."
   ]
  },
  {
   "cell_type": "code",
   "execution_count": 4,
   "metadata": {},
   "outputs": [
    {
     "data": {
      "text/plain": [
       "20"
      ]
     },
     "execution_count": 4,
     "metadata": {},
     "output_type": "execute_result"
    }
   ],
   "source": [
    "f.write('Readability counts.\\n')"
   ]
  },
  {
   "cell_type": "markdown",
   "metadata": {},
   "source": [
    "`f.tell()` returns an integer giving the file object’s current position in the file represented as number of bytes from the beginning of the file when in binary mode and an opaque number when in text mode."
   ]
  },
  {
   "cell_type": "code",
   "execution_count": 5,
   "metadata": {},
   "outputs": [
    {
     "data": {
      "text/plain": [
       "229"
      ]
     },
     "execution_count": 5,
     "metadata": {},
     "output_type": "execute_result"
    }
   ],
   "source": [
    "f.tell()"
   ]
  },
  {
   "cell_type": "markdown",
   "metadata": {},
   "source": [
    "To change the file object’s position, use `f.seek(offset, whence)`. The position is computed from adding `offset` to a reference point; the reference point is selected by the `whence` argument. A `whence` value of 0 measures from the beginning of the file, 1 uses the current file position, and 2 uses the end of the file as the reference point. whence can be omitted and defaults to 0, using the beginning of the file as the reference point."
   ]
  },
  {
   "cell_type": "code",
   "execution_count": 6,
   "metadata": {},
   "outputs": [
    {
     "data": {
      "text/plain": [
       "'Beautiful '"
      ]
     },
     "execution_count": 6,
     "metadata": {},
     "output_type": "execute_result"
    }
   ],
   "source": [
    "f.seek(0)\n",
    "f.read(10)"
   ]
  },
  {
   "cell_type": "markdown",
   "metadata": {},
   "source": [
    "If you’re not using the `with` keyword, then you should call `f.close()` to close the file and immediately free up any system resources used by it. If you don’t explicitly close a file, Python’s garbage collector will eventually destroy the object and close the open file for you, but the file may stay open for a while."
   ]
  },
  {
   "cell_type": "code",
   "execution_count": 7,
   "metadata": {},
   "outputs": [],
   "source": [
    "f.close()"
   ]
  },
  {
   "cell_type": "markdown",
   "metadata": {},
   "source": [
    "## Working with the file system (`os`, `os.path`, `glob`)\n",
    "\n",
    "### `os`\n",
    "\n",
    "The `os` module contains functions to get information on local directories, files, processes, and environment variables.\n",
    "\n",
    "`os.getcwd()` - returns the current working directory"
   ]
  },
  {
   "cell_type": "code",
   "execution_count": 1,
   "metadata": {},
   "outputs": [
    {
     "name": "stdout",
     "output_type": "stream",
     "text": [
      "/Users/iulia/PycharmProjects/python-training-oct2020/docs\n"
     ]
    }
   ],
   "source": [
    "import os\n",
    "current_path = os.getcwd()\n",
    "print(current_path)"
   ]
  },
  {
   "cell_type": "markdown",
   "metadata": {},
   "source": [
    "`os.listdir(path)` - returns a list of all the entries in the directory given by `path`"
   ]
  },
  {
   "cell_type": "code",
   "execution_count": 2,
   "metadata": {},
   "outputs": [
    {
     "data": {
      "text/plain": [
       "['13. Web Applications. Django Framework.ipynb',\n",
       " '07. Organizing and reusing code.ipynb',\n",
       " '01. Introduction.ipynb',\n",
       " '10. Object-Oriented Programming.ipynb',\n",
       " 'file_example.txt',\n",
       " '04. Built-in Types (I).ipynb',\n",
       " '03. Everything in Python is an object.ipynb',\n",
       " 'webapp.png',\n",
       " '06. Built-in Types (II).ipynb',\n",
       " '12. Testing your code.ipynb',\n",
       " '09. Decorators.ipynb',\n",
       " '.ipynb_checkpoints',\n",
       " '05. Control Flow.ipynb',\n",
       " '11. Input-Output Operations.ipynb',\n",
       " '02. The Language.ipynb',\n",
       " '08. Iterables.ipynb']"
      ]
     },
     "execution_count": 2,
     "metadata": {},
     "output_type": "execute_result"
    }
   ],
   "source": [
    "os.listdir(current_path)"
   ]
  },
  {
   "cell_type": "markdown",
   "metadata": {},
   "source": [
    "`os.mkdir(path)` - creates a directory\n",
    "\n",
    "`os.makedirs(path)` - creates directory recursively, by adding eventual missing directories "
   ]
  },
  {
   "cell_type": "code",
   "execution_count": 10,
   "metadata": {},
   "outputs": [],
   "source": [
    "os.mkdir('testdir')\n",
    "assert 'testdir' in os.listdir(current_path)"
   ]
  },
  {
   "cell_type": "markdown",
   "metadata": {},
   "source": [
    "`os.chdir()` - changes the current working directory"
   ]
  },
  {
   "cell_type": "code",
   "execution_count": 11,
   "metadata": {},
   "outputs": [
    {
     "name": "stdout",
     "output_type": "stream",
     "text": [
      "Items in testdir: []\n"
     ]
    }
   ],
   "source": [
    "os.chdir('testdir')\n",
    "print('Items in testdir:', os.listdir())\n",
    "os.chdir(current_path)"
   ]
  },
  {
   "cell_type": "markdown",
   "metadata": {},
   "source": [
    "`os.rename(source, dest)` - renames the file or directory "
   ]
  },
  {
   "cell_type": "code",
   "execution_count": 12,
   "metadata": {},
   "outputs": [],
   "source": [
    "os.rename('testdir', 'new_testdir')\n",
    "assert 'testdir' not in os.listdir(current_path)\n",
    "assert 'new_testdir' in os.listdir(current_path)"
   ]
  },
  {
   "cell_type": "markdown",
   "metadata": {},
   "source": [
    "`os.remove(path)` - removes a file\n",
    "\n",
    "`os.rmdir(path)` - removes the directory path\n",
    "\n",
    "`os.removedirs(path)` - Removes directories recursively"
   ]
  },
  {
   "cell_type": "code",
   "execution_count": 13,
   "metadata": {},
   "outputs": [],
   "source": [
    "os.rmdir('new_testdir')\n",
    "assert 'new_testdir' not in os.listdir(current_path)"
   ]
  },
  {
   "cell_type": "markdown",
   "metadata": {},
   "source": [
    "`os.walk(path)` - Directory tree generator. For each directory in the directory tree rooted at top, yields a 3-tuple `dirpath, dirnames, filenames`:\n",
    "    \n",
    "* `dirpath` is a string, the path to the directory.\n",
    "* `dirnames` is a list of the names of the subdirectories in `dirpath` (excluding '.' and '..').\n",
    "* `filenames` is a list of the names of the non-directory files in `dirpath`."
   ]
  },
  {
   "cell_type": "code",
   "execution_count": 14,
   "metadata": {},
   "outputs": [
    {
     "name": "stdout",
     "output_type": "stream",
     "text": [
      ". ['.ipynb_checkpoints'] ['07. Organizing and reusing code.ipynb', '01. Introduction.ipynb', '10. Object-Oriented Programming.ipynb', 'file_example.txt', '04. Built-in Types (I).ipynb', '03. Everything in Python is an object.ipynb', '06. Built-in Types (II).ipynb', '09. Decorators.ipynb', '05. Control Flow.ipynb', '11. Input-Output Operations.ipynb', '02. The Language.ipynb', '08. Iterables.ipynb']\n",
      "./.ipynb_checkpoints [] ['07. Organizing and reusing code-checkpoint.ipynb', '10. Object-Oriented Programming-checkpoint.ipynb', '09. Decorators-checkpoint.ipynb', '06. Built-in Types (II)-checkpoint.ipynb', '01. Introduction-checkpoint.ipynb', '02. The Language-checkpoint.ipynb', '03. Everything in Python is an object-checkpoint.ipynb', '05. Control Flow-checkpoint.ipynb', '11. Input-Output Operations-checkpoint.ipynb', '08. Iterables-checkpoint.ipynb', '04. Built-in Types (I)-checkpoint.ipynb']\n"
     ]
    }
   ],
   "source": [
    "for dirpath, dirnames, filenames in os.walk('.'):\n",
    "    print(dirpath, dirnames, filenames)"
   ]
  },
  {
   "cell_type": "markdown",
   "metadata": {},
   "source": [
    "### `os.path`\n",
    "\n",
    "`os.path` contains functions for manipulating filenames and directory names.\n",
    "\n",
    "\n",
    "`os.path.exists(path)` - test whether a path exists"
   ]
  },
  {
   "cell_type": "code",
   "execution_count": 15,
   "metadata": {},
   "outputs": [
    {
     "data": {
      "text/plain": [
       "True"
      ]
     },
     "execution_count": 15,
     "metadata": {},
     "output_type": "execute_result"
    }
   ],
   "source": [
    "os.path.exists(current_path)"
   ]
  },
  {
   "cell_type": "markdown",
   "metadata": {},
   "source": [
    "`os.path.isfile(path)` - test whether a path is a regular file"
   ]
  },
  {
   "cell_type": "code",
   "execution_count": 16,
   "metadata": {},
   "outputs": [
    {
     "data": {
      "text/plain": [
       "False"
      ]
     },
     "execution_count": 16,
     "metadata": {},
     "output_type": "execute_result"
    }
   ],
   "source": [
    "os.path.isfile(current_path)"
   ]
  },
  {
   "cell_type": "markdown",
   "metadata": {},
   "source": [
    "`os.path.isdir(path)` - return true if the pathname refers to an existing directory"
   ]
  },
  {
   "cell_type": "code",
   "execution_count": 17,
   "metadata": {},
   "outputs": [
    {
     "data": {
      "text/plain": [
       "True"
      ]
     },
     "execution_count": 17,
     "metadata": {},
     "output_type": "execute_result"
    }
   ],
   "source": [
    "os.path.isdir(current_path)"
   ]
  },
  {
   "cell_type": "markdown",
   "metadata": {},
   "source": [
    "`os.path.islink(path)` - test whether a path is a symbolic link"
   ]
  },
  {
   "cell_type": "code",
   "execution_count": 18,
   "metadata": {},
   "outputs": [
    {
     "data": {
      "text/plain": [
       "False"
      ]
     },
     "execution_count": 18,
     "metadata": {},
     "output_type": "execute_result"
    }
   ],
   "source": [
    "os.path.islink(current_path)"
   ]
  },
  {
   "cell_type": "markdown",
   "metadata": {},
   "source": [
    "`os.path.split(path)` - split a pathname;  returns tuple `(head, tail)` where `tail` is everything after the final slash"
   ]
  },
  {
   "cell_type": "code",
   "execution_count": 3,
   "metadata": {},
   "outputs": [
    {
     "data": {
      "text/plain": [
       "('/Users/iulia/PycharmProjects/python-training-oct2020', 'docs')"
      ]
     },
     "execution_count": 3,
     "metadata": {},
     "output_type": "execute_result"
    }
   ],
   "source": [
    "os.path.split(current_path)"
   ]
  },
  {
   "cell_type": "markdown",
   "metadata": {},
   "source": [
    "`os.path.dirname(path)` - returns the directory component of a pathname"
   ]
  },
  {
   "cell_type": "code",
   "execution_count": 4,
   "metadata": {},
   "outputs": [
    {
     "data": {
      "text/plain": [
       "'/Users/iulia/PycharmProjects/python-training-oct2020'"
      ]
     },
     "execution_count": 4,
     "metadata": {},
     "output_type": "execute_result"
    }
   ],
   "source": [
    "os.path.dirname(current_path)"
   ]
  },
  {
   "cell_type": "markdown",
   "metadata": {},
   "source": [
    "`os.path.basename(path)` - returns the final component of a pathname"
   ]
  },
  {
   "cell_type": "code",
   "execution_count": 21,
   "metadata": {},
   "outputs": [
    {
     "data": {
      "text/plain": [
       "'docs'"
      ]
     },
     "execution_count": 21,
     "metadata": {},
     "output_type": "execute_result"
    }
   ],
   "source": [
    "os.path.basename(current_path)"
   ]
  },
  {
   "cell_type": "markdown",
   "metadata": {},
   "source": [
    "`os.path.join(path,\"new_var\")` - join two or more pathname components, inserting `os.sep` as needed."
   ]
  },
  {
   "cell_type": "code",
   "execution_count": 22,
   "metadata": {},
   "outputs": [
    {
     "data": {
      "text/plain": [
       "'/Users/iulia/PycharmProjects/python-training-june2020/docs/testdir/innerdir'"
      ]
     },
     "execution_count": 22,
     "metadata": {},
     "output_type": "execute_result"
    }
   ],
   "source": [
    "os.path.join(current_path, 'testdir', 'innerdir')"
   ]
  },
  {
   "cell_type": "markdown",
   "metadata": {},
   "source": [
    "### `glob`\n",
    "\n",
    "The glob module is another tool in the Python standard library. It's an easy way to get the contents of a directory programmatically, and it uses the sort of wildcards that we may already be familiar with from working on the command line.\n",
    "\n",
    "`glob.glob(pathname, recursive=False)` - Return a list of paths matching a `pathname` pattern. The pattern may contain simple shell-style wildcards. If `recursive` is true, the pattern `'**'` will match any files and zero or more directories and subdirectories.\n",
    "\n",
    "`glob.iglob(pathname, recursive=False)` - Return an iterator which yields the paths matching a pathname pattern."
   ]
  },
  {
   "cell_type": "code",
   "execution_count": 23,
   "metadata": {},
   "outputs": [
    {
     "data": {
      "text/plain": [
       "['04. Built-in Types (I).ipynb', '06. Built-in Types (II).ipynb']"
      ]
     },
     "execution_count": 23,
     "metadata": {},
     "output_type": "execute_result"
    }
   ],
   "source": [
    "import glob\n",
    "glob.glob('*Types*')"
   ]
  },
  {
   "cell_type": "markdown",
   "metadata": {},
   "source": [
    "## Parsing command line arguments (`argparse`)\n",
    "\n",
    "`argparse` is the recommended command-line parsing module in the Python standard library.\n",
    "\n",
    "The first step in using the argparse is creating an `ArgumentParser` object:"
   ]
  },
  {
   "cell_type": "code",
   "execution_count": 24,
   "metadata": {},
   "outputs": [],
   "source": [
    "import argparse\n",
    "parser = argparse.ArgumentParser(description='Argparse example')"
   ]
  },
  {
   "cell_type": "markdown",
   "metadata": {},
   "source": [
    "Filling an `ArgumentParser` with information about program arguments is done by making calls to the `add_argument()` method."
   ]
  },
  {
   "cell_type": "code",
   "execution_count": 25,
   "metadata": {},
   "outputs": [
    {
     "data": {
      "text/plain": [
       "_StoreTrueAction(option_strings=['--flag'], dest='flag', nargs=0, const=True, default=False, type=None, choices=None, help='flag stored true if present', metavar=None)"
      ]
     },
     "execution_count": 25,
     "metadata": {},
     "output_type": "execute_result"
    }
   ],
   "source": [
    "parser.add_argument('number', type=int, help='do something with number')\n",
    "parser.add_argument('--flag', help='flag stored true if present', action='store_true')"
   ]
  },
  {
   "cell_type": "markdown",
   "metadata": {},
   "source": [
    "#### `add_argument` parameters:\n",
    "\n",
    "`name or flags` - Either a name or a list of option strings, e.g. `foo` or `-f, --foo`.\n",
    "\n",
    "`action` - The basic type of action to be taken when this argument is encountered at the command line.\n",
    "\n",
    "`nargs` - The number of command-line arguments that should be consumed.\n",
    "\n",
    "`const` - A constant value required by some action and nargs selections.\n",
    "\n",
    "`default` - The value produced if the argument is absent from the command line.\n",
    "\n",
    "`type` - The type to which the command-line argument should be converted.\n",
    "\n",
    "`choices` - A container of the allowable values for the argument.\n",
    "\n",
    "`required` - Whether or not the command-line option may be omitted (optionals only).\n",
    "\n",
    "`help` - A brief description of what the argument does.\n",
    "\n",
    "`metavar` - A name for the argument in usage messages.\n",
    "\n",
    "`dest` - The name of the attribute to be added to the object returned by `parse_args()`.\n",
    "\n",
    "\n",
    "ArgumentParser parses arguments through the `parse_args()` method. This will inspect the command line, convert each argument to the appropriate type and then invoke the appropriate action."
   ]
  },
  {
   "cell_type": "code",
   "execution_count": 26,
   "metadata": {},
   "outputs": [],
   "source": [
    "args = parser.parse_args(['--flag', '99'])"
   ]
  },
  {
   "cell_type": "markdown",
   "metadata": {},
   "source": [
    "`parse_args()` returns an object which will have the arguments as attributes:"
   ]
  },
  {
   "cell_type": "code",
   "execution_count": 27,
   "metadata": {},
   "outputs": [
    {
     "data": {
      "text/plain": [
       "99"
      ]
     },
     "execution_count": 27,
     "metadata": {},
     "output_type": "execute_result"
    }
   ],
   "source": [
    "args.number"
   ]
  },
  {
   "cell_type": "code",
   "execution_count": 28,
   "metadata": {},
   "outputs": [
    {
     "data": {
      "text/plain": [
       "True"
      ]
     },
     "execution_count": 28,
     "metadata": {},
     "output_type": "execute_result"
    }
   ],
   "source": [
    "args.flag"
   ]
  }
 ],
 "metadata": {
  "kernelspec": {
   "display_name": "Python 3",
   "language": "python",
   "name": "python3"
  },
  "language_info": {
   "codemirror_mode": {
    "name": "ipython",
    "version": 3
   },
   "file_extension": ".py",
   "mimetype": "text/x-python",
   "name": "python",
   "nbconvert_exporter": "python",
   "pygments_lexer": "ipython3",
   "version": "3.8.2"
  }
 },
 "nbformat": 4,
 "nbformat_minor": 4
}
