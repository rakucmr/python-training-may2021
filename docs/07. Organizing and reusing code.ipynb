{
 "cells": [
  {
   "cell_type": "markdown",
   "metadata": {},
   "source": [
    "# Organizing and reusing code\n",
    "## Functions: definition\n",
    "\n",
    "A function is a group of related statements that performs a specific task.\n",
    "\n",
    "Functions help break our program into smaller and modular chunks. As our program grows larger and larger, functions make it more organized and manageable.\n",
    "\n",
    "Furthermore, it avoids repetition and makes the code reusable.\n",
    "\n",
    "```python\n",
    "def function_name(parameters):\n",
    "\t\"\"\"docstring\"\"\"\n",
    "\tstatement(s)\n",
    "    return value\n",
    "```\n",
    "\n",
    "Above shown is a function definition that consists of the following components:\n",
    "\n",
    "* Keyword `def` marks the start of the function header.\n",
    "* A function name to uniquely identify the function. When naming functions, in Python, we should use the lowercase snake_case practice.\n",
    "* Optional parameters (arguments) through which we pass values to a function.\n",
    "* Optional inline documentation (docstring) describing the function.\n",
    "* One or more valid python statements that make up the function body\n",
    "* An optional `return` statement to return a value from the function\n",
    "\n",
    "Let's see a simple function in action:"
   ]
  },
  {
   "cell_type": "code",
   "execution_count": 2,
   "metadata": {},
   "outputs": [],
   "source": [
    "def my_function():\n",
    "    \"\"\"Prints a greeting message\"\"\"\n",
    "    print('Hello world!')"
   ]
  },
  {
   "cell_type": "markdown",
   "metadata": {},
   "source": [
    "Once we have defined a function, we can call it from another function, program or even the Python prompt. To call a function we simply type the function name followed by parantheses inside which we place the arguments, if the function expects them."
   ]
  },
  {
   "cell_type": "code",
   "execution_count": 3,
   "metadata": {},
   "outputs": [
    {
     "name": "stdout",
     "output_type": "stream",
     "text": [
      "Hello world!\n"
     ]
    }
   ],
   "source": [
    "my_function()"
   ]
  },
  {
   "cell_type": "markdown",
   "metadata": {},
   "source": [
    "Without the parantheses, my_function is just an object; we can send it as a parameter to other functions or we can inspect its attributes:"
   ]
  },
  {
   "cell_type": "code",
   "execution_count": 7,
   "metadata": {},
   "outputs": [
    {
     "data": {
      "text/plain": [
       "<function __main__.my_function()>"
      ]
     },
     "execution_count": 7,
     "metadata": {},
     "output_type": "execute_result"
    }
   ],
   "source": [
    "my_function"
   ]
  },
  {
   "cell_type": "code",
   "execution_count": 8,
   "metadata": {},
   "outputs": [
    {
     "data": {
      "text/plain": [
       "function"
      ]
     },
     "execution_count": 8,
     "metadata": {},
     "output_type": "execute_result"
    }
   ],
   "source": [
    "type(my_function)"
   ]
  },
  {
   "cell_type": "code",
   "execution_count": 9,
   "metadata": {},
   "outputs": [
    {
     "data": {
      "text/plain": [
       "'Prints a greeting message'"
      ]
     },
     "execution_count": 9,
     "metadata": {},
     "output_type": "execute_result"
    }
   ],
   "source": [
    "my_function.__doc__"
   ]
  },
  {
   "cell_type": "markdown",
   "metadata": {},
   "source": [
    "## Function output (`return` statement)\n",
    "\n",
    "The `return` statement is used to exit a function and go back to the place from where it was called.\n",
    "\n",
    "This statement can contain an expression that gets evaluated and the value is returned. If there is no expression in the statement or the `return` statement itself is not present inside a function, then the function will return the `None` object."
   ]
  },
  {
   "cell_type": "code",
   "execution_count": 11,
   "metadata": {},
   "outputs": [
    {
     "name": "stdout",
     "output_type": "stream",
     "text": [
      "Hello world!\n",
      "Return value: None\n"
     ]
    }
   ],
   "source": [
    "return_value = my_function()\n",
    "print('Return value:', return_value)"
   ]
  },
  {
   "cell_type": "code",
   "execution_count": 12,
   "metadata": {},
   "outputs": [],
   "source": [
    "def my_function():\n",
    "    return 'Hello world!'"
   ]
  },
  {
   "cell_type": "markdown",
   "metadata": {},
   "source": [
    "For the function above, simply running it will not produce any effect:"
   ]
  },
  {
   "cell_type": "code",
   "execution_count": null,
   "metadata": {},
   "outputs": [],
   "source": [
    "my_function()"
   ]
  },
  {
   "cell_type": "markdown",
   "metadata": {},
   "source": [
    "We should store its return value in a variable and then work with that variable:"
   ]
  },
  {
   "cell_type": "code",
   "execution_count": 13,
   "metadata": {},
   "outputs": [
    {
     "name": "stdout",
     "output_type": "stream",
     "text": [
      "Return value: Hello world!\n"
     ]
    }
   ],
   "source": [
    "return_value = my_function()\n",
    "print('Return value:', return_value)"
   ]
  },
  {
   "cell_type": "markdown",
   "metadata": {},
   "source": [
    "## Function input (arguments)\n",
    "\n",
    "Functions property of making the code reusable highly relies on arguments. By passing arguments to a function, you execute the same statements for different inputs and expect different outputs.\n",
    "\n",
    "When defining a function, you can specify two types of arguments:\n",
    "* required arguments\n",
    "* optional arguments\n",
    "    * default arguments\n",
    "    * arbitrary arguments"
   ]
  },
  {
   "cell_type": "code",
   "execution_count": 19,
   "metadata": {},
   "outputs": [],
   "source": [
    "def decrement(nr, step=1):\n",
    "    return nr - step"
   ]
  },
  {
   "cell_type": "markdown",
   "metadata": {},
   "source": [
    "In the example above, `nr` is a required argument and `step` is a default argument. Optional arguments must follow required arguments."
   ]
  },
  {
   "cell_type": "code",
   "execution_count": 20,
   "metadata": {},
   "outputs": [
    {
     "data": {
      "text/plain": [
       "8"
      ]
     },
     "execution_count": 20,
     "metadata": {},
     "output_type": "execute_result"
    }
   ],
   "source": [
    "decrement(10, 2)"
   ]
  },
  {
   "cell_type": "code",
   "execution_count": 21,
   "metadata": {},
   "outputs": [
    {
     "data": {
      "text/plain": [
       "9"
      ]
     },
     "execution_count": 21,
     "metadata": {},
     "output_type": "execute_result"
    }
   ],
   "source": [
    "decrement(10)"
   ]
  },
  {
   "cell_type": "markdown",
   "metadata": {},
   "source": [
    "When calling a function, you can specify arguments as:\n",
    "* positional arguments\n",
    "* keyword arguments\n",
    "\n",
    "When you call a function with positional arguments, actual parameters get mapped to formal parameters according to their **position**:"
   ]
  },
  {
   "cell_type": "code",
   "execution_count": 22,
   "metadata": {},
   "outputs": [
    {
     "data": {
      "text/plain": [
       "2"
      ]
     },
     "execution_count": 22,
     "metadata": {},
     "output_type": "execute_result"
    }
   ],
   "source": [
    "decrement(5, 3)"
   ]
  },
  {
   "cell_type": "markdown",
   "metadata": {},
   "source": [
    "When you call a function with keyword arguments, actual parameters get mapped to formal parameters according to their **name**:"
   ]
  },
  {
   "cell_type": "code",
   "execution_count": 23,
   "metadata": {},
   "outputs": [
    {
     "data": {
      "text/plain": [
       "2"
      ]
     },
     "execution_count": 23,
     "metadata": {},
     "output_type": "execute_result"
    }
   ],
   "source": [
    "decrement(step=3, nr=5)"
   ]
  },
  {
   "cell_type": "markdown",
   "metadata": {},
   "source": [
    "**Arbitrary arguments** are used when a function can receive any number of arguments.\n",
    "\n",
    "We use the following notation:\n",
    "* `*argument`: positional arguments\n",
    "* `**argument`: keyword arguments"
   ]
  },
  {
   "cell_type": "code",
   "execution_count": 1,
   "metadata": {},
   "outputs": [],
   "source": [
    "def greet(*names, **options):\n",
    "    capitalize = options.get('capitalize', False)\n",
    "    upper = options.get('upper', False)\n",
    "    \n",
    "    for name in names:\n",
    "        if capitalize:\n",
    "            name = name.capitalize()\n",
    "        elif upper:\n",
    "            name = name.upper()\n",
    "        print(f'Hello, {name}!')"
   ]
  },
  {
   "cell_type": "code",
   "execution_count": 2,
   "metadata": {},
   "outputs": [
    {
     "name": "stdout",
     "output_type": "stream",
     "text": [
      "Hello, MIKE!\n",
      "Hello, STEVE!\n",
      "Hello, ANNA!\n"
     ]
    }
   ],
   "source": [
    "greet('mike', 'steve', 'anna', upper=True)"
   ]
  },
  {
   "cell_type": "code",
   "execution_count": 26,
   "metadata": {},
   "outputs": [
    {
     "name": "stdout",
     "output_type": "stream",
     "text": [
      "Hello, MICHELLE!\n"
     ]
    }
   ],
   "source": [
    "greet('michelle', upper=True, capitalize=False)"
   ]
  },
  {
   "cell_type": "code",
   "execution_count": 27,
   "metadata": {},
   "outputs": [],
   "source": [
    "greet()"
   ]
  },
  {
   "cell_type": "markdown",
   "metadata": {},
   "source": [
    "## The empty statement (`pass`)\n",
    "\n",
    "In Python programming, the `pass` statement is a null statement.Suppose we have a loop or a function that is not implemented yet, but we want to implement it in the future. They cannot have an empty body. The interpreter would give an error. So, we use the `pass` statement to construct a body that does nothing."
   ]
  },
  {
   "cell_type": "code",
   "execution_count": 28,
   "metadata": {},
   "outputs": [],
   "source": [
    "def my_function():\n",
    "    pass\n",
    "\n",
    "my_function()"
   ]
  },
  {
   "cell_type": "markdown",
   "metadata": {},
   "source": [
    "## Variable Scope and Lifetime. The LEGB rule\n",
    "\n",
    "The lifetime of a variable is the period throughout which the variable exists in the memory. The lifetime of variables inside a function is as long as the function executes.\n",
    "\n",
    "They are destroyed once we return from the function. Hence, a function does not remember the value of a variable from its previous calls.\n",
    "\n",
    "Scope of a variable is the portion of a program where the variable is recognized. Parameters and variables defined inside a function are not visible from outside the function. Hence, they have a local scope.\n",
    "\n",
    "The LEGB rule states the priority of different scopes when searching for a name (most prioritary -> least prioritary):\n",
    "* Local\n",
    "* Enclosing\n",
    "* Global\n",
    "* Built-in\n",
    "\n",
    "Any names defined in a more prioritary scope *shadow* the same names in a less prioritary scope. Generally, *name shadowing* is a bad practice and should be avoided."
   ]
  },
  {
   "cell_type": "markdown",
   "metadata": {},
   "source": [
    "## Modules and Packages\n",
    "\n",
    "Modules in Python are simply Python files with a `.py` extension. The name of the module will be the name of the file. A Python module can contain executable statements, constants, functions and classes definitions.\n",
    "\n",
    "For reasons of efficiency, a module is only loaded once per interpreter session. Meaning that, if the same module is imported from multiple locations in our running app, the import will be executed only once.\n",
    "\n",
    "Also, while using the interactive interpreter, it may be the case that you need to reload an already imported module (because it has been edited and you need the latest version of it):\n",
    "\n",
    "```python\n",
    ">>> import mymodule\n",
    ">>> import imp\n",
    ">>> imp.reload(mymodule)\n",
    "```\n",
    "\n",
    "Python packages are directories containing Python modules. If there is an `__init__.py` module defined inside the package, it will we executed on package import."
   ]
  },
  {
   "cell_type": "markdown",
   "metadata": {},
   "source": [
    "## `import` statement\n",
    "\n",
    "Module contents are made available to the caller with the `import` statement. The `import` statement takes many different forms, shown below.\n",
    "\n",
    "#### `import <module_name>`\n",
    "\n",
    "From the caller, objects in the module are only accessible when prefixed with `<module_name>` via dot notation, as illustrated below."
   ]
  },
  {
   "cell_type": "code",
   "execution_count": 1,
   "metadata": {},
   "outputs": [
    {
     "data": {
      "text/plain": [
       "10.0"
      ]
     },
     "execution_count": 1,
     "metadata": {},
     "output_type": "execute_result"
    }
   ],
   "source": [
    "import math\n",
    "math.sqrt(100)"
   ]
  },
  {
   "cell_type": "markdown",
   "metadata": {},
   "source": [
    "#### `from <module_name> import <name(s)>`\n",
    "\n",
    "An alternate form of the `import` statement that allows individual objects from the module to be imported. `<name(s)>` can be referenced in the caller’s environment without the `<module_name>` prefix."
   ]
  },
  {
   "cell_type": "code",
   "execution_count": 2,
   "metadata": {},
   "outputs": [
    {
     "data": {
      "text/plain": [
       "10.0"
      ]
     },
     "execution_count": 2,
     "metadata": {},
     "output_type": "execute_result"
    }
   ],
   "source": [
    "from math import sqrt\n",
    "sqrt(100)"
   ]
  },
  {
   "cell_type": "markdown",
   "metadata": {},
   "source": [
    "#### `from <module_name> import <name> as <alt_name>`\n",
    "\n",
    "It is also possible to import individual objects but under different names, in order to avoid name conflicts."
   ]
  },
  {
   "cell_type": "code",
   "execution_count": 3,
   "metadata": {},
   "outputs": [
    {
     "data": {
      "text/plain": [
       "10.0"
      ]
     },
     "execution_count": 3,
     "metadata": {},
     "output_type": "execute_result"
    }
   ],
   "source": [
    "from math import sqrt as square_root\n",
    "square_root(100)"
   ]
  },
  {
   "cell_type": "markdown",
   "metadata": {},
   "source": [
    "#### `import <module_name> as <alt_name>`\n",
    "\n",
    "You can also import an entire module under an alternate name"
   ]
  },
  {
   "cell_type": "code",
   "execution_count": 4,
   "metadata": {},
   "outputs": [
    {
     "data": {
      "text/plain": [
       "10.0"
      ]
     },
     "execution_count": 4,
     "metadata": {},
     "output_type": "execute_result"
    }
   ],
   "source": [
    "import math as pymath\n",
    "pymath.sqrt(100)"
   ]
  }
 ],
 "metadata": {
  "kernelspec": {
   "display_name": "Python 3",
   "language": "python",
   "name": "python3"
  },
  "language_info": {
   "codemirror_mode": {
    "name": "ipython",
    "version": 3
   },
   "file_extension": ".py",
   "mimetype": "text/x-python",
   "name": "python",
   "nbconvert_exporter": "python",
   "pygments_lexer": "ipython3",
   "version": "3.8.5"
  }
 },
 "nbformat": 4,
 "nbformat_minor": 4
}
