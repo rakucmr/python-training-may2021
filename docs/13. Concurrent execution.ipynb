{
 "cells": [
  {
   "attachments": {
    "multithreading.png": {
     "image/png": "[encoded data removed]"
    }
   },
   "cell_type": "markdown",
   "metadata": {},
   "source": [
    "# Concurrent execution\n",
    "\n",
    "The two main modules in Python Standard Library for parallelizing code are `threading` and `multiprocessing`. When deciding between the two, you should ask yourself: what kind of program are you trying to paralellize?\n",
    "* I/O bound program -> `threading`\n",
    "* CPU bound program -> `multiprocessing`\n",
    "\n",
    "## `threading`\n",
    "\n",
    "A thread is a separate flow of execution. This means that your program will have multiple things happening at once. But for most Python implementations the different threads do not actually execute at the same time: they merely appear to. In CPython, multi-threading is supported by introducing the Global Interpreter Lock (GIL) which to prevent multiple threads from accessing the same Python object simultaneously. Only one thread can hold the GIL at a time, one thread must wait for another thread to release the GIL before running.\n",
    "<img src=\"attachment:multithreading.png\" width=\"600\">\n",
    "\n",
    "### Using `threading` module\n",
    "\n",
    "#### `threading.Thread` class\n",
    "* Represents an activity that is run in a separate thread of control\n",
    "* Activity can be specified by passing a callable to constructor or by overriding run() method in a subclass\n",
    "* Activity should be started by calling start() method of Thread instance\n",
    "* Threads can be named by setting `name` attribute\n",
    "* `start()` – Starts thread activity. Can be called only one time for a thread. It launches threads’s `run()` method in a separate thread of control\n",
    "* `run()` – Method representind threads’s activity. Defaults to callable passed in constructor as `target` parameter\n",
    "* `join([timeout])` – Blocking call that waits for specific thread to terminate\n",
    "* `is_alive()` – Queries thread status. Returns `True` unitl `run()` method terminates\n"
   ]
  },
  {
   "cell_type": "code",
   "execution_count": 5,
   "metadata": {},
   "outputs": [
    {
     "name": "stdout",
     "output_type": "stream",
     "text": [
      "Thread Thread-20 alive status: True\n",
      "Total no of threads: 6\n",
      "Thread Thread-21 alive status: True\n",
      "Total no of threads: 7\n",
      "Thread Thread-22 alive status: True\n",
      "Total no of threads: 8\n",
      "Thread Thread-23 alive status: True\n",
      "Total no of threads: 9\n",
      "Thread Thread-24 alive status: True\n",
      "Total no of threads: 10\n",
      "Finished execution from thread 1Finished execution from thread 2Finished execution from thread 3Finished execution from thread 4Finished execution from thread 5\n",
      "\n",
      "\n",
      "\n",
      "\n",
      "Total time: 3.0086216927\n"
     ]
    }
   ],
   "source": [
    "import threading\n",
    "import time\n",
    "\n",
    "\n",
    "def func(nr):\n",
    "    time.sleep(3)\n",
    "    print(\"Finished execution from thread {}\".format(nr))\n",
    "\n",
    "\n",
    "time_start = time.time()\n",
    "threads = set()\n",
    "\n",
    "for i in range(1, 6):\n",
    "    t = threading.Thread(target=func, args=(i, ))\n",
    "    t.start()\n",
    "    \n",
    "    print('Thread {} alive status: {}'.format(t.name, t.is_alive()))\n",
    "\n",
    "    count = threading.active_count()\n",
    "    print(\"Total no of threads: {}\".format(count))\n",
    "\n",
    "    threads.add(t)\n",
    "\n",
    "for thread in threads:\n",
    "    thread.join()\n",
    "\n",
    "time_end = time.time()\n",
    "total_time = time_end - time_start\n",
    "print(f'Total time: {total_time:.10f}')"
   ]
  },
  {
   "cell_type": "markdown",
   "metadata": {},
   "source": [
    "A common problem that arises when working with multi-threaded programs is accessing a shared object. If threads need to modify an object, they have to make several operations: get the current value of the object, compute the new value, overwrite object with new value. Between these operations, the thread might pass the run context to another thread, which will read the same \"current\" version of the common object. When writing to the shared object, both threads will write the same value, leading to one of the computations being lost. \n",
    "\n",
    "A way to prevent this is by using a `Lock`. A `Lock` is an object that acts like a hall pass. Only one thread at a time can have the `Lock`. Any other thread that wants the `Lock` must wait until the owner of the `Lock` gives it up.\n",
    "\n",
    "The basic functions to do this are `.acquire()` and `.release()`. A thread will call `my_lock.acquire()` to get the lock. If the lock is already held, the calling thread will wait until it is released. "
   ]
  },
  {
   "cell_type": "code",
   "execution_count": 9,
   "metadata": {},
   "outputs": [
    {
     "name": "stdout",
     "output_type": "stream",
     "text": [
      "1000000\n",
      "2000000\n",
      "3000000\n",
      "4000000\n",
      "5000000\n",
      "6000000\n",
      "7000000\n",
      "8000000\n",
      "9000000\n",
      "10000000\n",
      "Total 10000000\n",
      "Total execution time: 1.2358169556\n"
     ]
    }
   ],
   "source": [
    "import threading\n",
    "import time\n",
    "\n",
    "total = 0\n",
    "lock = threading.Lock()\n",
    "\n",
    "\n",
    "def update_total(amount):\n",
    "    \"\"\"\n",
    "    Updates the total by the given amount\n",
    "    \"\"\"\n",
    "    global total\n",
    "\n",
    "    with lock:\n",
    "        for _ in range(1000000):\n",
    "            total += amount\n",
    "            \n",
    "            # thread gets current value from `total`\n",
    "            # computes `curr_val` + `amount`\n",
    "            # sets new value to `total`\n",
    "            \n",
    "    print(total)\n",
    "\n",
    "\n",
    "if __name__ == '__main__':\n",
    "    start_time = time.time()\n",
    "    threads = []\n",
    "    for _ in range(10):\n",
    "        my_thread = threading.Thread(target=update_total, args=(1,))\n",
    "        my_thread.start()\n",
    "        threads.append(my_thread)\n",
    "\n",
    "    for thread in threads:\n",
    "        thread.join()\n",
    "\n",
    "    end_time = time.time()\n",
    "    print('Total', total)\n",
    "    print(f'Total execution time: {end_time - start_time:.10f}')\n"
   ]
  },
  {
   "cell_type": "markdown",
   "metadata": {},
   "source": [
    "## `multiprocessing`\n",
    "\n",
    "Multiprocessing allows you to create programs that can run concurrently (bypassing the GIL) and use the entirety of your CPU core. Though it is fundamentally different from the threading library, the syntax is quite similar. The multiprocessing library gives each process its own Python interpreter and each their own GIL.\n",
    "\n",
    "Because of this, the usual problems associated with threading (such as data corruption and deadlocks) are no longer an issue. Since the processes don't share memory, they can't modify the same memory concurrently."
   ]
  },
  {
   "cell_type": "code",
   "execution_count": 13,
   "metadata": {},
   "outputs": [
    {
     "name": "stdout",
     "output_type": "stream",
     "text": [
      "Total execution time (parallel): 0.1870582104\n",
      "5 doubled to 10 by: MainProcess\n",
      "10 doubled to 20 by: MainProcess\n",
      "15 doubled to 30 by: MainProcess\n",
      "20 doubled to 40 by: MainProcess\n",
      "25 doubled to 50 by: MainProcess\n",
      "Total execution time (serial): 6.5554959774\n"
     ]
    }
   ],
   "source": [
    "from multiprocessing import Process, current_process\n",
    "import time\n",
    "import random\n",
    "\n",
    "\n",
    "def doubler(nr):\n",
    "    \"\"\"\n",
    "    A doubling function that can be used by a process\n",
    "    \"\"\"\n",
    "    # Mock time-consuming processing:\n",
    "    x = 0\n",
    "    for i in range(1000000):\n",
    "        x += random.randint(1, 10)\n",
    "\n",
    "    result = nr * 2\n",
    "    proc_name = current_process().name\n",
    "    print('{} doubled to {} by: {}'.format(nr, result, proc_name))\n",
    "\n",
    "\n",
    "if __name__ == '__main__':\n",
    "    numbers = [5, 10, 15, 20, 25]\n",
    "    procs = []\n",
    "\n",
    "    time0 = time.time()\n",
    "    for number in numbers:\n",
    "        proc = Process(target=doubler, args=(number,))\n",
    "        procs.append(proc)\n",
    "        proc.start()\n",
    "\n",
    "    for proc in procs:\n",
    "        proc.join()\n",
    "\n",
    "    time1 = time.time()\n",
    "    print(f'Total execution time (parallel): {time1-time0:.10f}')\n",
    "\n",
    "    time0 = time.time()\n",
    "\n",
    "    for number in numbers:\n",
    "        doubler(number)\n",
    "\n",
    "    time1 = time.time()\n",
    "    print(f'Total execution time (serial): {time1 - time0:.10f}')\n"
   ]
  }
 ],
 "metadata": {
  "kernelspec": {
   "display_name": "Python 3",
   "language": "python",
   "name": "python3"
  },
  "language_info": {
   "codemirror_mode": {
    "name": "ipython",
    "version": 3
   },
   "file_extension": ".py",
   "mimetype": "text/x-python",
   "name": "python",
   "nbconvert_exporter": "python",
   "pygments_lexer": "ipython3",
   "version": "3.8.5"
  }
 },
 "nbformat": 4,
 "nbformat_minor": 4
}
