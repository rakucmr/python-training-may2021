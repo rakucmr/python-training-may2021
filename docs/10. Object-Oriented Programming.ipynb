{
 "cells": [
  {
   "cell_type": "markdown",
   "metadata": {},
   "source": [
    "# Object-Oriented Programming\n",
    "\n",
    "Object-oriented Programming, or OOP for short, is a programming paradigm which provides a means of structuring programs so that properties and behaviors are bundled into individual objects. OOP models real-world entities as software objects, which have some data associated with them and can perform certain functions.\n",
    "\n",
    "## Classes and Instances\n",
    "\n",
    "Classes are used to create new user-defined data structures that contain arbitrary information about something. It’s important to note that a class just provides structure—it’s a blueprint for how something should be defined, but it doesn’t actually provide any real content itself.\n",
    "\n",
    "While the *class* is the blueprint, an *instance* is a copy of the class with *actual* values, literally an object belonging to a specific class.\n",
    "\n",
    "### Defining the class\n",
    "\n",
    "The simplest definition for a class consists of the following:\n",
    "\n",
    "* keyword `class`\n",
    "* the name of the class (usually camel-cased)\n",
    "* an optional docstring\n",
    "* the body of the class"
   ]
  },
  {
   "cell_type": "code",
   "execution_count": 1,
   "metadata": {},
   "outputs": [],
   "source": [
    "class MyClass:\n",
    "    \"\"\"Docstring for MyClass\"\"\"\n",
    "    pass"
   ]
  },
  {
   "cell_type": "markdown",
   "metadata": {},
   "source": [
    "### Instantiating the class\n",
    "\n",
    "Instantiating the class, or creating an object of that type, is done by *calling* the class:"
   ]
  },
  {
   "cell_type": "code",
   "execution_count": 2,
   "metadata": {},
   "outputs": [
    {
     "data": {
      "text/plain": [
       "__main__.MyClass"
      ]
     },
     "execution_count": 2,
     "metadata": {},
     "output_type": "execute_result"
    }
   ],
   "source": [
    "my_obj = MyClass()\n",
    "type(my_obj)"
   ]
  },
  {
   "cell_type": "markdown",
   "metadata": {},
   "source": [
    "## Class members: attributes\n",
    "\n",
    "Any definining characteristics that we wish to store on objects can be kept on attributes. They are also known as data members, and there are two types of data members:\n",
    "\n",
    "* class variables (shared by all instances of a class)\n",
    "* instance variables (particular to every instance)\n",
    "\n",
    "Most often, instance variables are defined in a special initializing method, which is called after the instance is created. Methods are just like normal functions with the exception that the first argument to each method is `self` - the current instance."
   ]
  },
  {
   "cell_type": "code",
   "execution_count": 3,
   "metadata": {},
   "outputs": [],
   "source": [
    "class Person:\n",
    "    count = 0\n",
    "    \n",
    "    def __init__(self, name, age):\n",
    "        self.name = name\n",
    "        self.age = age"
   ]
  },
  {
   "cell_type": "markdown",
   "metadata": {},
   "source": [
    "`Person` class has `count` as a class variable, and `name` and `age` as instance variables. When instantiating a class, we must send the arguments `__init__` expects, minus the `self` argument which is implicitly passed."
   ]
  },
  {
   "cell_type": "code",
   "execution_count": 4,
   "metadata": {},
   "outputs": [
    {
     "name": "stdout",
     "output_type": "stream",
     "text": [
      "Karen 45 0\n"
     ]
    }
   ],
   "source": [
    "p1 = Person('Karen', 45)\n",
    "print(p1.name, p1.age, p1.count)"
   ]
  },
  {
   "cell_type": "markdown",
   "metadata": {},
   "source": [
    "Class attributes are accesible from both the class and any instance, but can be modified only from the class:"
   ]
  },
  {
   "cell_type": "code",
   "execution_count": 5,
   "metadata": {},
   "outputs": [
    {
     "name": "stdout",
     "output_type": "stream",
     "text": [
      "0\n",
      "1\n"
     ]
    }
   ],
   "source": [
    "print(Person.count)\n",
    "Person.count += 1\n",
    "print(p1.count)"
   ]
  },
  {
   "cell_type": "markdown",
   "metadata": {},
   "source": [
    "Classes in Python have a dynamic structure, which means attributes can be set/deleted at runtime:"
   ]
  },
  {
   "cell_type": "code",
   "execution_count": 6,
   "metadata": {},
   "outputs": [
    {
     "name": "stdout",
     "output_type": "stream",
     "text": [
      "John 1.85 45\n"
     ]
    }
   ],
   "source": [
    "p1.height = 1.85\n",
    "p1.name = 'John'\n",
    "print(p1.name, p1.height, p1.age)\n",
    "del p1.height"
   ]
  },
  {
   "cell_type": "markdown",
   "metadata": {},
   "source": [
    "## Class members: methods\n",
    "\n",
    "Methods are functions defined inside classes. Instance methods always receive the current instance (`self`) as the first parameter. `self` has to be specified in the method definition. When calling an instance method, you don't need to send the current object as its first parameter; Python knows who the current instance is because you are using it to call the method: `current_obj.method(params)`."
   ]
  },
  {
   "cell_type": "code",
   "execution_count": 7,
   "metadata": {},
   "outputs": [
    {
     "data": {
      "text/plain": [
       "'Jane says \"Hi!\"'"
      ]
     },
     "execution_count": 7,
     "metadata": {},
     "output_type": "execute_result"
    }
   ],
   "source": [
    "class Person:\n",
    "    \"\"\"A simple Person class\"\"\"\n",
    "    \n",
    "    def __init__(self, name):\n",
    "        self.name = name\n",
    "        \n",
    "    def salute(self, greeting):\n",
    "        return f'{self.name} says \"{greeting}!\"'\n",
    "    \n",
    "jane = Person('Jane')\n",
    "jane.salute('Hi')"
   ]
  },
  {
   "cell_type": "markdown",
   "metadata": {},
   "source": [
    "## Dunder (magic) methods and attributes. Operator overloading\n",
    "\n",
    "Every Python class has the following built-in attributes that can be accessed using dot operator like any other attribute:\n",
    "\n",
    "`__dict__` − Dictionary containing the class's namespace.\n",
    "\n",
    "`__doc__` − Class documentation string or none, if undefined.\n",
    "\n",
    "`__name__` − Class name.\n",
    "\n",
    "`__module__` − Module name in which the class is defined. This attribute is `\"__main__\"` in interactive mode.\n",
    "\n",
    "`__bases__` − A possibly empty tuple containing the base classes, in the order of their occurrence in the base class list.\n",
    "\n",
    "For the above class let us try to access all these attributes:"
   ]
  },
  {
   "cell_type": "code",
   "execution_count": 8,
   "metadata": {},
   "outputs": [
    {
     "name": "stdout",
     "output_type": "stream",
     "text": [
      "Person.__doc__: A simple Person class\n",
      "Person.__name__: Person\n",
      "Person.__module__: __main__\n",
      "Person.__bases__: (<class 'object'>,)\n",
      "Person.__dict__: {'__module__': '__main__', '__doc__': 'A simple Person class', '__init__': <function Person.__init__ at 0x1034784c0>, 'salute': <function Person.salute at 0x1034788b0>, '__dict__': <attribute '__dict__' of 'Person' objects>, '__weakref__': <attribute '__weakref__' of 'Person' objects>}\n"
     ]
    }
   ],
   "source": [
    "print(\"Person.__doc__:\", Person.__doc__)\n",
    "print(\"Person.__name__:\", Person.__name__)\n",
    "print(\"Person.__module__:\", Person.__module__)\n",
    "print(\"Person.__bases__:\", Person.__bases__)\n",
    "print(\"Person.__dict__:\", Person.__dict__ )"
   ]
  },
  {
   "cell_type": "markdown",
   "metadata": {},
   "source": [
    "Special methods are called under the hood when doing different operations in Python. Some commonly used special methods are:\n",
    "\n",
    "`__init__` - called when we initialize an instance\n",
    "\n",
    "`__repr__` - called by `repr(obj)`; returns the “official” representation as a string\n",
    "\n",
    "`__str__` - called by `str(obj)`; returns the “informal” value as a string\n",
    "\n",
    "User-defined classes can emulate built-in types. This is done by overloading operators. For example, if you want your class to support comparison, you should implement the following magic methods:\n",
    "\n",
    "`x.__eq__(y)` - equality: `x == y`\n",
    "\n",
    "`x.__ne__(y)` - inequality: `x != y`\n",
    "\n",
    "`x.__lt__(y)` - less than: `x < y`\n",
    "\n",
    "`x.__le__(y)` - less than or equal to: `x <= y`\n",
    "\n",
    "`x.__gt__(y)` - greater than: `x > y`\n",
    "\n",
    "`x.__ge__(y)` - greater than or equal to: `x >= y`\n",
    "\n",
    "For more examples on special methods see [this tutorial](https://diveintopython3.net/special-method-names.html) or the [official documentation](https://docs.python.org/3/reference/datamodel.html)."
   ]
  },
  {
   "cell_type": "markdown",
   "metadata": {},
   "source": [
    "## Static and class methods\n",
    "\n",
    "Besides instance methods, in Python we can have two more types of methods:\n",
    "\n",
    "* class methods\n",
    "* static methods\n",
    "\n",
    "Class methods are similar to class variables. They are common to all instances, can be called from both the instance and the class, and have access to other class methods and to class variables.\n",
    "\n",
    "Static methods, on the other hand, don't have acces to the class or the instance. They are simple functions which make sense only in the context of the class, but otherwise don't use any internal class data. They can also be called from the instance or from the class.\n",
    "\n",
    "In order to mark a method as either class/static method, we use the respective built-in decorator:\n",
    "\n",
    "`@classmethod`\n",
    "\n",
    "`@staticmethod`"
   ]
  },
  {
   "cell_type": "code",
   "execution_count": 9,
   "metadata": {},
   "outputs": [
    {
     "name": "stdout",
     "output_type": "stream",
     "text": [
      "706.8583470577034\n"
     ]
    }
   ],
   "source": [
    "import math\n",
    "\n",
    "class Pizza:\n",
    "    TOPPINGS = ('mozzarella', 'prosciutto', 'tomatoes')\n",
    "    \n",
    "    def __init__(self, radius, toppings):\n",
    "        for topping in toppings:\n",
    "            if not self.validate_topping(topping):\n",
    "                raise ValueError(f'Accepted toppings: {self.TOPPINGS}')\n",
    "        self.radius = radius  \n",
    "        self.toppings = toppings\n",
    "\n",
    "    def area(self):\n",
    "        return self.circle_area(self.radius)\n",
    "\n",
    "    @classmethod\n",
    "    def validate_topping(cls, topping):\n",
    "        if topping in cls.TOPPINGS:\n",
    "            return True\n",
    "        return False\n",
    "    \n",
    "    @staticmethod\n",
    "    def circle_area(r):\n",
    "        return r ** 2 * math.pi\n",
    "    \n",
    "\n",
    "margherita = Pizza(15, ['mozzarella', 'tomatoes'])\n",
    "print(margherita.area())"
   ]
  },
  {
   "cell_type": "code",
   "execution_count": 10,
   "metadata": {},
   "outputs": [
    {
     "name": "stdout",
     "output_type": "stream",
     "text": [
      "['mozzarella', 'tomatoes']\n"
     ]
    }
   ],
   "source": [
    "new_topping = 'ham'\n",
    "if Pizza.validate_topping(new_topping):\n",
    "    margherita.toppings.append(new_topping)\n",
    "print(margherita.toppings)"
   ]
  },
  {
   "cell_type": "code",
   "execution_count": 11,
   "metadata": {},
   "outputs": [
    {
     "data": {
      "text/plain": [
       "907.9202768874502"
      ]
     },
     "execution_count": 11,
     "metadata": {},
     "output_type": "execute_result"
    }
   ],
   "source": [
    "Pizza.circle_area(17)"
   ]
  },
  {
   "cell_type": "markdown",
   "metadata": {},
   "source": [
    "## Access control solutions\n",
    "\n",
    "“Private” instance variables that cannot be accessed except from inside an object don’t exist in Python. However, there is a convention that is followed by most Python code: a name prefixed with an underscore (e.g. `_spam`) should be treated as a non-public part of the API (whether it is a function, a method or a data member). It should be considered an implementation detail and subject to change without notice.\n",
    "\n",
    "Since there is a valid use-case for class-private members (namely to avoid name clashes of names with names defined by subclasses), there is limited support for such a mechanism, called name mangling. Any identifier of the form `__spam` (at least two leading underscores, at most one trailing underscore) is textually replaced with `_classname__spam`, where `classname` is the current class name with leading underscore(s) stripped. This mangling is done without regard to the syntactic position of the identifier, as long as it occurs within the definition of a class.\n",
    "\n",
    "Name mangling is helpful for letting subclasses override methods without breaking intraclass method calls."
   ]
  },
  {
   "cell_type": "markdown",
   "metadata": {},
   "source": [
    "## Getter/Setter/Deleter methods. The `property` class\n",
    "\n",
    "When we need to manage an attributes getting/setting/deleting, we can do it through a `property`. `property` is a built-in class that can be used as a decorator that can expose a data member to the caller, but manage getting/setting/deleting that attribute through methods. It can be used for:\n",
    "\n",
    "* data validation (check condition before setting)\n",
    "* computed attributes\n",
    "* any other operations we want to make at the same time with attribute getting/setting/deleting."
   ]
  },
  {
   "cell_type": "code",
   "execution_count": 12,
   "metadata": {},
   "outputs": [
    {
     "name": "stdout",
     "output_type": "stream",
     "text": [
      "Mozzarella\n"
     ]
    }
   ],
   "source": [
    "class Pizza:\n",
    "    def __init__(self, topping):\n",
    "        self.topping = topping\n",
    "        \n",
    "    @property\n",
    "    def topping(self):\n",
    "        return self._topping.capitalize()\n",
    "\n",
    "    @topping.setter\n",
    "    def topping(self, value):\n",
    "        if value not in ('mozzarella', 'prosciutto', 'tomatoes'):\n",
    "            raise ValueError\n",
    "        self._topping = value\n",
    "    \n",
    "    @topping.deleter\n",
    "    def topping(self):\n",
    "        del self._topping\n",
    "\n",
    "        \n",
    "my_pizza = Pizza('mozzarella')\n",
    "print(my_pizza.topping)"
   ]
  },
  {
   "cell_type": "code",
   "execution_count": 13,
   "metadata": {},
   "outputs": [
    {
     "name": "stdout",
     "output_type": "stream",
     "text": [
      "Invalid topping\n"
     ]
    }
   ],
   "source": [
    "try:\n",
    "    my_pizza.topping = 'parmesan'\n",
    "except ValueError:\n",
    "    print('Invalid topping')"
   ]
  },
  {
   "cell_type": "markdown",
   "metadata": {},
   "source": [
    "## Inheritance\n",
    "\n",
    "Instead of starting from scratch, you can create a class by deriving it from a pre-existing class by listing the parent class in parentheses after the new class name.\n",
    "\n",
    "The child class inherits the attributes of its parent class, and you can use those attributes as if they were defined in the child class. A child class can also override data members and methods from the parent.\n",
    "\n",
    "In order to call a parent method from a child method, we need to use `super()`. `super()` returns a temporary object of the superclass that then allows you to call that superclass’s methods."
   ]
  },
  {
   "cell_type": "code",
   "execution_count": 1,
   "metadata": {},
   "outputs": [],
   "source": [
    "class Person:\n",
    "    def __init__(self, name, age):\n",
    "        self.name = name\n",
    "        self.age = age\n",
    "    \n",
    "    def salute(self, greeting):\n",
    "        print(f'{self.name} says \"{greeting}!\"')\n",
    "\n",
    "    \n",
    "class Student(Person):\n",
    "    def __init__(self, name, age, university):\n",
    "        super().__init__(name, age)\n",
    "        self.university = university\n",
    "        \n",
    "    def salute(self, greeting):\n",
    "        print(f'{greeting}! I am {self.name} and I study at {self.university}.')"
   ]
  },
  {
   "cell_type": "code",
   "execution_count": 15,
   "metadata": {},
   "outputs": [
    {
     "name": "stdout",
     "output_type": "stream",
     "text": [
      "John says \"Hello!\"\n"
     ]
    }
   ],
   "source": [
    "p = Person('John', 45)\n",
    "p.salute('Hello')"
   ]
  },
  {
   "cell_type": "code",
   "execution_count": 16,
   "metadata": {},
   "outputs": [
    {
     "name": "stdout",
     "output_type": "stream",
     "text": [
      "Hi! I am Mike and I study at MIT.\n"
     ]
    }
   ],
   "source": [
    "s = Student('Mike', 20, 'MIT')\n",
    "s.salute('Hi')"
   ]
  },
  {
   "cell_type": "markdown",
   "metadata": {},
   "source": [
    "## Built-in functions useful in OOP \n",
    "\n",
    "Functions to check relationships of classes and instances:\n",
    "\n",
    "`isinstance(obj, cls)` - verifies if `obj` is an instance of `cls`\n",
    "\n",
    "`issubclass(cls1, cls2)` - verifies if `cls1` is a subclass of `cls2`"
   ]
  },
  {
   "cell_type": "code",
   "execution_count": 17,
   "metadata": {},
   "outputs": [
    {
     "data": {
      "text/plain": [
       "True"
      ]
     },
     "execution_count": 17,
     "metadata": {},
     "output_type": "execute_result"
    }
   ],
   "source": [
    "isinstance(s, Student)"
   ]
  },
  {
   "cell_type": "code",
   "execution_count": 18,
   "metadata": {},
   "outputs": [
    {
     "data": {
      "text/plain": [
       "True"
      ]
     },
     "execution_count": 18,
     "metadata": {},
     "output_type": "execute_result"
    }
   ],
   "source": [
    "isinstance(s, Person)"
   ]
  },
  {
   "cell_type": "code",
   "execution_count": 19,
   "metadata": {},
   "outputs": [
    {
     "data": {
      "text/plain": [
       "True"
      ]
     },
     "execution_count": 19,
     "metadata": {},
     "output_type": "execute_result"
    }
   ],
   "source": [
    "isinstance(s, object)"
   ]
  },
  {
   "cell_type": "code",
   "execution_count": 20,
   "metadata": {},
   "outputs": [
    {
     "data": {
      "text/plain": [
       "False"
      ]
     },
     "execution_count": 20,
     "metadata": {},
     "output_type": "execute_result"
    }
   ],
   "source": [
    "isinstance(p, Student)"
   ]
  },
  {
   "cell_type": "code",
   "execution_count": 21,
   "metadata": {},
   "outputs": [
    {
     "data": {
      "text/plain": [
       "True"
      ]
     },
     "execution_count": 21,
     "metadata": {},
     "output_type": "execute_result"
    }
   ],
   "source": [
    "issubclass(Student, Person)"
   ]
  },
  {
   "cell_type": "code",
   "execution_count": 22,
   "metadata": {},
   "outputs": [
    {
     "data": {
      "text/plain": [
       "True"
      ]
     },
     "execution_count": 22,
     "metadata": {},
     "output_type": "execute_result"
    }
   ],
   "source": [
    "issubclass(Student, object)"
   ]
  },
  {
   "cell_type": "code",
   "execution_count": 23,
   "metadata": {},
   "outputs": [
    {
     "data": {
      "text/plain": [
       "False"
      ]
     },
     "execution_count": 23,
     "metadata": {},
     "output_type": "execute_result"
    }
   ],
   "source": [
    "issubclass(Person, Student)"
   ]
  },
  {
   "cell_type": "markdown",
   "metadata": {},
   "source": [
    "Instead of using the normal statements to access attributes, you can use the following functions:\n",
    "\n",
    "`getattr(obj, name[, default])` - access the attribute of an object; equivalent to `obj.name`\n",
    "\n",
    "`hasattr(obj, name)` - check if `obj` has attribute `name`\n",
    "\n",
    "`setattr(obj, name, value)` - set an attribute; if attribute does not exist, it is created; equivalent to `obj.name = value`\n",
    "\n",
    "`delattr(obj, name)` - delete an attribute; equivalent to `del obj.name`"
   ]
  },
  {
   "cell_type": "code",
   "execution_count": 24,
   "metadata": {},
   "outputs": [
    {
     "data": {
      "text/plain": [
       "20"
      ]
     },
     "execution_count": 24,
     "metadata": {},
     "output_type": "execute_result"
    }
   ],
   "source": [
    "getattr(s, 'age')"
   ]
  },
  {
   "cell_type": "code",
   "execution_count": 25,
   "metadata": {},
   "outputs": [
    {
     "data": {
      "text/plain": [
       "0"
      ]
     },
     "execution_count": 25,
     "metadata": {},
     "output_type": "execute_result"
    }
   ],
   "source": [
    "getattr(s, 'height', 0)"
   ]
  },
  {
   "cell_type": "code",
   "execution_count": 26,
   "metadata": {},
   "outputs": [
    {
     "data": {
      "text/plain": [
       "False"
      ]
     },
     "execution_count": 26,
     "metadata": {},
     "output_type": "execute_result"
    }
   ],
   "source": [
    "hasattr(s, 'height')"
   ]
  },
  {
   "cell_type": "code",
   "execution_count": 27,
   "metadata": {},
   "outputs": [],
   "source": [
    "setattr(s, 'height', 1.83)"
   ]
  },
  {
   "cell_type": "code",
   "execution_count": 28,
   "metadata": {},
   "outputs": [
    {
     "data": {
      "text/plain": [
       "1.83"
      ]
     },
     "execution_count": 28,
     "metadata": {},
     "output_type": "execute_result"
    }
   ],
   "source": [
    "getattr(s, 'height', 0)"
   ]
  },
  {
   "cell_type": "code",
   "execution_count": 29,
   "metadata": {},
   "outputs": [],
   "source": [
    "delattr(s, 'height')"
   ]
  }
 ],
 "metadata": {
  "kernelspec": {
   "display_name": "Python 3",
   "language": "python",
   "name": "python3"
  },
  "language_info": {
   "codemirror_mode": {
    "name": "ipython",
    "version": 3
   },
   "file_extension": ".py",
   "mimetype": "text/x-python",
   "name": "python",
   "nbconvert_exporter": "python",
   "pygments_lexer": "ipython3",
   "version": "3.8.2"
  }
 },
 "nbformat": 4,
 "nbformat_minor": 4
}
